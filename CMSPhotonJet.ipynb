{
 "cells": [
  {
   "cell_type": "markdown",
   "metadata": {},
   "source": [
    "# Set up CMS photon jet inference from full python package\n",
    "\n",
    "## Model setup\n",
    "\n",
    "Add some details here"
   ]
  },
  {
   "cell_type": "code",
   "execution_count": 1,
   "metadata": {},
   "outputs": [],
   "source": [
    "import subprocess\n",
    "\n",
    "from sklearn.gaussian_process import GaussianProcessRegressor as GPR\n",
    "from sklearn.gaussian_process import kernels\n",
    "from sklearn.decomposition import PCA\n",
    "from sklearn.preprocessing import StandardScaler\n",
    "\n",
    "import matplotlib.cm as cm\n",
    "import matplotlib.pyplot as plt\n",
    "\n",
    "from scipy.linalg import lapack\n",
    "from scipy import stats\n",
    "import emcee\n",
    "import numpy as np\n",
    "\n",
    "import os\n",
    "import pickle"
   ]
  },
  {
   "cell_type": "markdown",
   "metadata": {},
   "source": [
    "## Step 1: prepare input pickle file"
   ]
  },
  {
   "cell_type": "code",
   "execution_count": 6,
   "metadata": {},
   "outputs": [],
   "source": [
    "# Initialize empty dictionary\n",
    "AllData = {}\n",
    "\n",
    "# Basic information\n",
    "AllData[\"systems\"] = [\"PbPb5020\"]\n",
    "AllData[\"keys\"] = [\"A\", \"B\"]\n",
    "AllData[\"labels\"] = [\"A\", \"B\"]\n",
    "AllData[\"ranges\"] = [(0, 20), (0, 20)]\n",
    "AllData[\"observables\"] = [('XJA', [None])]\n",
    "\n",
    "# Read input text files\n",
    "Covariance    = np.loadtxt('input/CMSPhotonJet/Covariance.txt')\n",
    "RawPrediction = np.loadtxt('input/CMSPhotonJet/ModelPrediction.txt')\n",
    "DesignPoints  = np.loadtxt('input/CMSPhotonJet/Design.txt')\n",
    "RawData       = np.loadtxt('input/CMSPhotonJet/Data.txt')\n",
    "\n",
    "SingleData = {'x': RawData[:,0], 'y': RawData[:,1], 'yerr': {'stat': RawData[:, 2], 'sys': RawData[:,3]}}\n",
    "SingleData[\"yerr\"][\"all\"] = np.sqrt(SingleData[\"yerr\"][\"stat\"]**2 + SingleData[\"yerr\"][\"sys\"]**2)\n",
    "Data = {\"PbPb5020\": {\"XJA\": {None: SingleData}}}\n",
    "\n",
    "Prediction = {\"PbPb5020\": {\"XJA\": {None: {\"Y\": RawPrediction, \"x\": RawData[:,0]}}}}\n",
    "\n",
    "CovarianceMatrix = {\"PbPb5020\": {\"XJA\": Covariance}}\n",
    "\n",
    "\n",
    "# Assign data to the dictionary\n",
    "AllData[\"design\"] = DesignPoints\n",
    "AllData[\"model\"] = Prediction\n",
    "AllData[\"data\"] = Data\n",
    "AllData[\"cov\"] = CovarianceMatrix\n",
    "\n",
    "# Save to the desired pickle file\n",
    "with open('input/default.p', 'wb') as handle:\n",
    "    pickle.dump(AllData, handle, protocol = pickle.HIGHEST_PROTOCOL)"
   ]
  },
  {
   "cell_type": "code",
   "execution_count": 7,
   "metadata": {},
   "outputs": [
    {
     "ename": "FileNotFoundError",
     "evalue": "[Errno 2] No such file or directory: 'mcmc/chain.hdf'",
     "output_type": "error",
     "traceback": [
      "\u001b[0;31m---------------------------------------------------------------------------\u001b[0m",
      "\u001b[0;31mFileNotFoundError\u001b[0m                         Traceback (most recent call last)",
      "\u001b[0;32m<ipython-input-7-580601f6c310>\u001b[0m in \u001b[0;36m<module>\u001b[0;34m\u001b[0m\n\u001b[1;32m      2\u001b[0m \u001b[0;34m\u001b[0m\u001b[0m\n\u001b[1;32m      3\u001b[0m \u001b[0;31m# Clean past MCMC samples\u001b[0m\u001b[0;34m\u001b[0m\u001b[0;34m\u001b[0m\u001b[0;34m\u001b[0m\u001b[0m\n\u001b[0;32m----> 4\u001b[0;31m \u001b[0mos\u001b[0m\u001b[0;34m.\u001b[0m\u001b[0mremove\u001b[0m\u001b[0;34m(\u001b[0m\u001b[0;34m\"mcmc/chain.hdf\"\u001b[0m\u001b[0;34m)\u001b[0m\u001b[0;34m\u001b[0m\u001b[0;34m\u001b[0m\u001b[0m\n\u001b[0m",
      "\u001b[0;31mFileNotFoundError\u001b[0m: [Errno 2] No such file or directory: 'mcmc/chain.hdf'"
     ]
    }
   ],
   "source": [
    "# Optional: clean files\n",
    "\n",
    "# Clean past MCMC samples\n",
    "os.remove(\"mcmc/chain.hdf\")"
   ]
  },
  {
   "cell_type": "markdown",
   "metadata": {},
   "source": [
    "## Step 2: run emulator"
   ]
  },
  {
   "cell_type": "code",
   "execution_count": 8,
   "metadata": {},
   "outputs": [
    {
     "name": "stdout",
     "output_type": "stream",
     "text": [
      "[INFO][emulator] training emulator for system PbPb5020 (10 PC, 0 restarts)\n",
      "[20 20]\n",
      "Emulator design:\n",
      "[[ 9.89368681 17.67830513]\n",
      " [13.27933734  8.93417263]\n",
      " [13.91407763  5.51081284]\n",
      " [ 6.51746591 10.26149551]\n",
      " [18.46737232 10.16692805]\n",
      " [ 9.0090532  15.72706132]\n",
      " [15.84854539  7.11468627]\n",
      " [ 3.13043352  4.17663049]\n",
      " [13.57825469 11.66924672]\n",
      " [11.77700967  2.8159296 ]\n",
      " [16.90814136  8.48922914]\n",
      " [ 2.32423428 16.28456341]\n",
      " [ 9.6398434  14.0320681 ]\n",
      " [ 7.38801505 18.57934962]\n",
      " [15.32564315  3.05049957]\n",
      " [ 3.71077323  7.70994371]\n",
      " [ 1.6912108   7.52057632]\n",
      " [18.1395542   4.93684076]\n",
      " [ 5.49534938  1.24825531]\n",
      " [14.739699   15.00057718]\n",
      " [ 4.96824166 13.3163702 ]\n",
      " [18.3866634   1.96906053]\n",
      " [ 2.18176932 17.96607754]\n",
      " [ 5.30053813  5.37384064]\n",
      " [ 5.75012018 16.18550963]\n",
      " [ 3.89496348  2.10575258]\n",
      " [16.66707606 19.02676448]\n",
      " [ 8.11026162 11.16650116]\n",
      " [ 0.90468556 12.1221526 ]\n",
      " [18.82772314 11.50579591]\n",
      " [10.71584872 18.01664813]\n",
      " [17.94731852 13.71556995]\n",
      " [12.82257434 14.24689256]\n",
      " [10.95674944  1.5828574 ]\n",
      " [16.07951749  5.00766973]\n",
      " [10.30235168 10.99903311]\n",
      " [ 5.96197203  6.74146869]\n",
      " [13.73224326  9.42498057]\n",
      " [18.79828524  0.35303405]\n",
      " [ 8.6616059   4.34357467]\n",
      " [ 1.3380581   1.07103372]\n",
      " [ 1.56359522 15.39290829]\n",
      " [15.62833255 10.51774143]\n",
      " [ 8.48100474  2.37690054]\n",
      " [12.44624624 18.22092525]\n",
      " [11.24625737 12.92521015]\n",
      " [ 7.09330846  9.73034504]\n",
      " [17.40536039  6.87226111]\n",
      " [ 6.01628877  2.64720622]\n",
      " [ 2.85894349 13.4514244 ]\n",
      " [ 2.6802931   8.34919005]\n",
      " [13.04531833  2.56123084]\n",
      " [12.7807682   5.77621253]\n",
      " [16.42016699 12.25815686]\n",
      " [17.17475644 17.52140409]\n",
      " [ 3.54034745 17.08470025]\n",
      " [14.02388309 16.46452691]\n",
      " [ 0.6964774   6.21469423]\n",
      " [ 7.99077817  7.30921842]\n",
      " [ 7.63223052 14.58589428]\n",
      " [ 4.3542711   3.63846757]\n",
      " [ 9.48296811 16.6350281 ]\n",
      " [ 8.20690547 19.58992421]\n",
      " [14.2031793  12.75253575]\n",
      " [19.4673835  15.82610193]\n",
      " [ 4.65938529 18.87038954]\n",
      " [17.2530574   3.47123597]\n",
      " [12.16556839  7.91602238]\n",
      " [ 5.05233458  9.12693619]\n",
      " [ 0.47641349 16.80436194]\n",
      " [10.58054693  3.32940168]\n",
      " [ 9.3146161  12.44555624]\n",
      " [14.87556449  8.07507958]\n",
      " [19.70659334 13.0002098 ]\n",
      " [ 6.69177759  4.71316636]\n",
      " [ 8.99008997  9.21050147]\n",
      " [ 1.08469502  3.83788029]\n",
      " [ 2.43750698 11.23480368]\n",
      " [19.33636515  5.83858898]\n",
      " [15.54641958  0.84356757]\n",
      " [11.1395195  19.99234444]\n",
      " [ 7.42969868  0.65678056]\n",
      " [ 4.44528878 14.9854588 ]\n",
      " [15.0650631  18.69252149]\n",
      " [14.4241068   4.53742907]\n",
      " [ 4.02143559  6.53422779]\n",
      " [12.25853367 10.63985607]\n",
      " [ 0.21051395 13.81056116]\n",
      " [ 6.82165388 17.28003871]\n",
      " [16.28280012 14.6255991 ]\n",
      " [11.91349532  0.12277525]\n",
      " [ 6.24408699 11.97333761]\n",
      " [17.79743909  9.96714369]\n",
      " [11.41913422 15.57340328]\n",
      " [ 3.32959413  0.43007777]\n",
      " [19.91973964  1.76660936]\n",
      " [ 0.09869299  8.67525261]\n",
      " [ 1.80178135 19.68510501]\n",
      " [19.16882453 19.3257981 ]\n",
      " [10.10056479  6.06805077]]\n",
      "[INFO][emulator] writing cache file cache/emulator/PbPb5020.pkl\n",
      "PbPb5020\n",
      "10 PCs explain 0.99989 of variance\n",
      "GP 0: 0.69417 of variance, LML = 218.83, kernel: 0.951**2 * RBF(length_scale=[6.02, 7.54]) + WhiteKernel(noise_level=0.0001)\n",
      "GP 1: 0.22754 of variance, LML = 132.66, kernel: 0.921**2 * RBF(length_scale=[5.32, 3.46]) + WhiteKernel(noise_level=0.0001)\n",
      "GP 2: 0.04884 of variance, LML = 43.184, kernel: 1.41**2 * RBF(length_scale=[3.94, 3.15]) + WhiteKernel(noise_level=0.000117)\n",
      "GP 3: 0.01873 of variance, LML = -6.0445, kernel: 1.66**2 * RBF(length_scale=[3.32, 3.09]) + WhiteKernel(noise_level=0.000287)\n",
      "GP 4: 0.00588 of variance, LML = -83.34, kernel: 1.48**2 * RBF(length_scale=[2.47, 2.21]) + WhiteKernel(noise_level=0.000602)\n",
      "GP 5: 0.00294 of variance, LML = -102.21, kernel: 1.7**2 * RBF(length_scale=[2.15, 2.41]) + WhiteKernel(noise_level=0.000172)\n",
      "GP 6: 0.00103 of variance, LML = -137.99, kernel: 0.661**2 * RBF(length_scale=[4.28, 2]) + WhiteKernel(noise_level=0.678)\n",
      "GP 7: 0.00058 of variance, LML = -140.65, kernel: 0.308**2 * RBF(length_scale=[11.1, 2]) + WhiteKernel(noise_level=0.908)\n",
      "GP 8: 0.00010 of variance, LML = -141.39, kernel: 0.00316**2 * RBF(length_scale=[19.9, 19.4]) + WhiteKernel(noise_level=0.99)\n",
      "GP 9: 0.00008 of variance, LML = -141.39, kernel: 0.00316**2 * RBF(length_scale=[6.13, 57.9]) + WhiteKernel(noise_level=0.99)\n"
     ]
    }
   ],
   "source": [
    "! python3 -m src.emulator --retrain --npc 10"
   ]
  },
  {
   "cell_type": "markdown",
   "metadata": {},
   "source": [
    "## Step 3: MCMC sampling"
   ]
  },
  {
   "cell_type": "code",
   "execution_count": 9,
   "metadata": {},
   "outputs": [
    {
     "name": "stdout",
     "output_type": "stream",
     "text": [
      "[INFO][mcmc] no existing chain found, starting initial burn-in\n",
      "[INFO][mcmc] running 20 walkers for 250 steps\n",
      "[INFO][mcmc] step 25: acceptance fraction: mean 0.5440, std 0.1388, min 0.2000, max 0.8400\n",
      "[INFO][mcmc] step 50: acceptance fraction: mean 0.6050, std 0.1002, min 0.4000, max 0.8400\n",
      "[INFO][mcmc] step 75: acceptance fraction: mean 0.6247, std 0.0698, min 0.5067, max 0.7733\n",
      "[INFO][mcmc] step 100: acceptance fraction: mean 0.6430, std 0.0671, min 0.5100, max 0.8000\n",
      "[INFO][mcmc] step 125: acceptance fraction: mean 0.6524, std 0.0650, min 0.5040, max 0.7840\n",
      "[INFO][mcmc] step 150: acceptance fraction: mean 0.6560, std 0.0602, min 0.5333, max 0.7667\n",
      "[INFO][mcmc] step 175: acceptance fraction: mean 0.6643, std 0.0522, min 0.5657, max 0.7600\n",
      "[INFO][mcmc] step 200: acceptance fraction: mean 0.6760, std 0.0447, min 0.6050, max 0.7700\n",
      "[INFO][mcmc] step 225: acceptance fraction: mean 0.6811, std 0.0419, min 0.6133, max 0.7733\n",
      "[INFO][mcmc] step 250: acceptance fraction: mean 0.6838, std 0.0379, min 0.6280, max 0.7600\n",
      "[INFO][mcmc] resampling walker positions\n",
      "[INFO][mcmc] running 20 walkers for 250 steps\n",
      "[INFO][mcmc] step 25: acceptance fraction: mean 0.7800, std 0.1008, min 0.5600, max 0.9600\n",
      "[INFO][mcmc] step 50: acceptance fraction: mean 0.7490, std 0.0720, min 0.6200, max 0.8800\n",
      "[INFO][mcmc] step 75: acceptance fraction: mean 0.7367, std 0.0608, min 0.6400, max 0.8933\n",
      "[INFO][mcmc] step 100: acceptance fraction: mean 0.7305, std 0.0434, min 0.6600, max 0.8100\n",
      "[INFO][mcmc] step 125: acceptance fraction: mean 0.7136, std 0.0540, min 0.6160, max 0.8240\n",
      "[INFO][mcmc] step 150: acceptance fraction: mean 0.7133, std 0.0494, min 0.6467, max 0.8333\n",
      "[INFO][mcmc] step 175: acceptance fraction: mean 0.7106, std 0.0516, min 0.6286, max 0.8171\n",
      "[INFO][mcmc] step 200: acceptance fraction: mean 0.7087, std 0.0432, min 0.6550, max 0.7950\n",
      "[INFO][mcmc] step 225: acceptance fraction: mean 0.7069, std 0.0386, min 0.6578, max 0.7822\n",
      "[INFO][mcmc] step 250: acceptance fraction: mean 0.7036, std 0.0333, min 0.6600, max 0.7800\n",
      "[INFO][mcmc] burn-in complete, starting production\n",
      "[INFO][mcmc] running 20 walkers for 500 steps\n",
      "[INFO][mcmc] step 50: acceptance fraction: mean 0.6960, std 0.0720, min 0.5600, max 0.8400\n",
      "[INFO][mcmc] step 100: acceptance fraction: mean 0.7145, std 0.0678, min 0.5900, max 0.8500\n",
      "[INFO][mcmc] step 150: acceptance fraction: mean 0.7200, std 0.0590, min 0.6067, max 0.8400\n",
      "[INFO][mcmc] step 200: acceptance fraction: mean 0.7113, std 0.0546, min 0.6100, max 0.8200\n",
      "[INFO][mcmc] step 250: acceptance fraction: mean 0.7134, std 0.0398, min 0.6320, max 0.8040\n",
      "[INFO][mcmc] step 300: acceptance fraction: mean 0.7122, std 0.0341, min 0.6500, max 0.7867\n",
      "[INFO][mcmc] step 350: acceptance fraction: mean 0.7174, std 0.0265, min 0.6714, max 0.7600\n",
      "[INFO][mcmc] step 400: acceptance fraction: mean 0.7185, std 0.0226, min 0.6775, max 0.7550\n",
      "[INFO][mcmc] step 450: acceptance fraction: mean 0.7143, std 0.0202, min 0.6822, max 0.7511\n",
      "[INFO][mcmc] step 500: acceptance fraction: mean 0.7095, std 0.0202, min 0.6800, max 0.7420\n",
      "[INFO][mcmc] writing chain to file\n"
     ]
    }
   ],
   "source": [
    "! python3 -m src.mcmc --nwalkers 20 --nburnsteps 500 500"
   ]
  },
  {
   "cell_type": "markdown",
   "metadata": {},
   "source": [
    "## Step 4: Analyze posterior samples"
   ]
  },
  {
   "cell_type": "code",
   "execution_count": 44,
   "metadata": {},
   "outputs": [],
   "source": [
    "from src import mcmc\n",
    "chain = mcmc.Chain()\n",
    "posterior_samples = chain.load()"
   ]
  },
  {
   "cell_type": "code",
   "execution_count": 46,
   "metadata": {
    "scrolled": true
   },
   "outputs": [
    {
     "name": "stdout",
     "output_type": "stream",
     "text": [
      "usage: plots.py [-h] [PLOT [PLOT ...]]\r\n",
      "\r\n",
      "generate plots\r\n",
      "\r\n",
      "positional arguments:\r\n",
      "  PLOT        {observables_design, observables_posterior, posterior, design,\r\n",
      "              gp, diag_emu} (default: all)\r\n",
      "\r\n",
      "optional arguments:\r\n",
      "  -h, --help  show this help message and exit\r\n"
     ]
    }
   ],
   "source": [
    "! python3 -m src.plots --help"
   ]
  },
  {
   "cell_type": "code",
   "execution_count": 10,
   "metadata": {},
   "outputs": [
    {
     "name": "stdout",
     "output_type": "stream",
     "text": [
      "[INFO][plots] generating plot: posterior\n",
      "[INFO][plots] wrote plots/posterior.pdf\n",
      "[INFO][plots] generating plot: gp\n",
      "[INFO][plots] wrote plots/gp.pdf\n",
      "[INFO][plots] generating plot: diag_emu\n",
      "[INFO][plots] wrote plots/diag_emu.pdf\n"
     ]
    }
   ],
   "source": [
    "! python3 -m src.plots posterior gp diag_emu"
   ]
  },
  {
   "cell_type": "markdown",
   "metadata": {},
   "source": [
    "## Step 5: adding all sorts of plots"
   ]
  },
  {
   "cell_type": "code",
   "execution_count": null,
   "metadata": {},
   "outputs": [],
   "source": []
  }
 ],
 "metadata": {
  "kernelspec": {
   "display_name": "Python 3",
   "language": "python",
   "name": "python3"
  },
  "language_info": {
   "codemirror_mode": {
    "name": "ipython",
    "version": 3
   },
   "file_extension": ".py",
   "mimetype": "text/x-python",
   "name": "python",
   "nbconvert_exporter": "python",
   "pygments_lexer": "ipython3",
   "version": "3.7.3"
  }
 },
 "nbformat": 4,
 "nbformat_minor": 2
}
